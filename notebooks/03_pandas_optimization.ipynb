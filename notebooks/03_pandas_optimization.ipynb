{
 "cells": [
  {
   "cell_type": "code",
   "execution_count": 1,
   "metadata": {
    "execution": {
     "iopub.execute_input": "2020-08-05T08:10:32.897313Z",
     "iopub.status.busy": "2020-08-05T08:10:32.897021Z",
     "iopub.status.idle": "2020-08-05T08:10:33.617170Z",
     "shell.execute_reply": "2020-08-05T08:10:33.616383Z",
     "shell.execute_reply.started": "2020-08-05T08:10:32.897271Z"
    }
   },
   "outputs": [],
   "source": [
    "import seaborn as sns"
   ]
  },
  {
   "cell_type": "code",
   "execution_count": 2,
   "metadata": {
    "execution": {
     "iopub.execute_input": "2020-08-05T08:10:33.618834Z",
     "iopub.status.busy": "2020-08-05T08:10:33.618634Z",
     "iopub.status.idle": "2020-08-05T08:10:33.665354Z",
     "shell.execute_reply": "2020-08-05T08:10:33.664646Z",
     "shell.execute_reply.started": "2020-08-05T08:10:33.618802Z"
    }
   },
   "outputs": [
    {
     "data": {
      "text/html": [
       "<div>\n",
       "<style scoped>\n",
       "    .dataframe tbody tr th:only-of-type {\n",
       "        vertical-align: middle;\n",
       "    }\n",
       "\n",
       "    .dataframe tbody tr th {\n",
       "        vertical-align: top;\n",
       "    }\n",
       "\n",
       "    .dataframe thead th {\n",
       "        text-align: right;\n",
       "    }\n",
       "</style>\n",
       "<table border=\"1\" class=\"dataframe\">\n",
       "  <thead>\n",
       "    <tr style=\"text-align: right;\">\n",
       "      <th></th>\n",
       "      <th>sepal_length</th>\n",
       "      <th>sepal_width</th>\n",
       "      <th>petal_length</th>\n",
       "      <th>petal_width</th>\n",
       "      <th>species</th>\n",
       "    </tr>\n",
       "  </thead>\n",
       "  <tbody>\n",
       "    <tr>\n",
       "      <td>0</td>\n",
       "      <td>5.1</td>\n",
       "      <td>3.5</td>\n",
       "      <td>1.4</td>\n",
       "      <td>0.2</td>\n",
       "      <td>setosa</td>\n",
       "    </tr>\n",
       "    <tr>\n",
       "      <td>1</td>\n",
       "      <td>4.9</td>\n",
       "      <td>3.0</td>\n",
       "      <td>1.4</td>\n",
       "      <td>0.2</td>\n",
       "      <td>setosa</td>\n",
       "    </tr>\n",
       "    <tr>\n",
       "      <td>2</td>\n",
       "      <td>4.7</td>\n",
       "      <td>3.2</td>\n",
       "      <td>1.3</td>\n",
       "      <td>0.2</td>\n",
       "      <td>setosa</td>\n",
       "    </tr>\n",
       "    <tr>\n",
       "      <td>3</td>\n",
       "      <td>4.6</td>\n",
       "      <td>3.1</td>\n",
       "      <td>1.5</td>\n",
       "      <td>0.2</td>\n",
       "      <td>setosa</td>\n",
       "    </tr>\n",
       "    <tr>\n",
       "      <td>4</td>\n",
       "      <td>5.0</td>\n",
       "      <td>3.6</td>\n",
       "      <td>1.4</td>\n",
       "      <td>0.2</td>\n",
       "      <td>setosa</td>\n",
       "    </tr>\n",
       "  </tbody>\n",
       "</table>\n",
       "</div>"
      ],
      "text/plain": [
       "   sepal_length  sepal_width  petal_length  petal_width species\n",
       "0           5.1          3.5           1.4          0.2  setosa\n",
       "1           4.9          3.0           1.4          0.2  setosa\n",
       "2           4.7          3.2           1.3          0.2  setosa\n",
       "3           4.6          3.1           1.5          0.2  setosa\n",
       "4           5.0          3.6           1.4          0.2  setosa"
      ]
     },
     "execution_count": 2,
     "metadata": {},
     "output_type": "execute_result"
    }
   ],
   "source": [
    "iris = sns.load_dataset('iris')\n",
    "iris.head()"
   ]
  },
  {
   "cell_type": "code",
   "execution_count": 3,
   "metadata": {
    "execution": {
     "iopub.execute_input": "2020-08-05T08:10:33.666916Z",
     "iopub.status.busy": "2020-08-05T08:10:33.666612Z",
     "iopub.status.idle": "2020-08-05T08:10:33.673004Z",
     "shell.execute_reply": "2020-08-05T08:10:33.672154Z",
     "shell.execute_reply.started": "2020-08-05T08:10:33.666878Z"
    }
   },
   "outputs": [
    {
     "data": {
      "text/plain": [
       "sepal_length    float64\n",
       "sepal_width     float64\n",
       "petal_length    float64\n",
       "petal_width     float64\n",
       "species          object\n",
       "dtype: object"
      ]
     },
     "execution_count": 3,
     "metadata": {},
     "output_type": "execute_result"
    }
   ],
   "source": [
    "iris.dtypes"
   ]
  },
  {
   "cell_type": "code",
   "execution_count": 4,
   "metadata": {
    "execution": {
     "iopub.execute_input": "2020-08-05T08:10:33.674289Z",
     "iopub.status.busy": "2020-08-05T08:10:33.674054Z",
     "iopub.status.idle": "2020-08-05T08:10:33.682060Z",
     "shell.execute_reply": "2020-08-05T08:10:33.681195Z",
     "shell.execute_reply.started": "2020-08-05T08:10:33.674250Z"
    }
   },
   "outputs": [
    {
     "data": {
      "text/plain": [
       "Index            128\n",
       "sepal_length    1200\n",
       "sepal_width     1200\n",
       "petal_length    1200\n",
       "petal_width     1200\n",
       "species         9800\n",
       "dtype: int64"
      ]
     },
     "execution_count": 4,
     "metadata": {},
     "output_type": "execute_result"
    }
   ],
   "source": [
    "iris.memory_usage(deep=True)"
   ]
  },
  {
   "cell_type": "code",
   "execution_count": 5,
   "metadata": {
    "execution": {
     "iopub.execute_input": "2020-08-05T08:10:33.684114Z",
     "iopub.status.busy": "2020-08-05T08:10:33.683891Z",
     "iopub.status.idle": "2020-08-05T08:10:33.690066Z",
     "shell.execute_reply": "2020-08-05T08:10:33.689310Z",
     "shell.execute_reply.started": "2020-08-05T08:10:33.684077Z"
    }
   },
   "outputs": [
    {
     "data": {
      "text/plain": [
       "9928"
      ]
     },
     "execution_count": 5,
     "metadata": {},
     "output_type": "execute_result"
    }
   ],
   "source": [
    "iris.species.memory_usage(deep=True)"
   ]
  },
  {
   "cell_type": "code",
   "execution_count": 8,
   "metadata": {
    "execution": {
     "iopub.execute_input": "2020-08-05T08:10:47.941329Z",
     "iopub.status.busy": "2020-08-05T08:10:47.941060Z",
     "iopub.status.idle": "2020-08-05T08:10:47.948498Z",
     "shell.execute_reply": "2020-08-05T08:10:47.947516Z",
     "shell.execute_reply.started": "2020-08-05T08:10:47.941286Z"
    }
   },
   "outputs": [
    {
     "data": {
      "text/plain": [
       "554"
      ]
     },
     "execution_count": 8,
     "metadata": {},
     "output_type": "execute_result"
    }
   ],
   "source": [
    "iris.species_categorical = iris.species.astype(\"category\")\n",
    "iris.species_categorical.memory_usage(deep=True)"
   ]
  },
  {
   "cell_type": "code",
   "execution_count": 14,
   "metadata": {
    "execution": {
     "iopub.execute_input": "2020-08-05T08:12:27.622248Z",
     "iopub.status.busy": "2020-08-05T08:12:27.622005Z",
     "iopub.status.idle": "2020-08-05T08:12:27.627567Z",
     "shell.execute_reply": "2020-08-05T08:12:27.626678Z",
     "shell.execute_reply.started": "2020-08-05T08:12:27.622210Z"
    }
   },
   "outputs": [
    {
     "data": {
      "text/plain": [
       "'Reduced by 94.4%'"
      ]
     },
     "execution_count": 14,
     "metadata": {},
     "output_type": "execute_result"
    }
   ],
   "source": [
    "\"Reduced by {:.1%}\".format(1 - iris.species_categorical.memory_usage(deep=True) / iris.species.memory_usage(deep=True))"
   ]
  }
 ],
 "metadata": {
  "kernelspec": {
   "display_name": "Python 3",
   "language": "python",
   "name": "python3"
  },
  "language_info": {
   "codemirror_mode": {
    "name": "ipython",
    "version": 3
   },
   "file_extension": ".py",
   "mimetype": "text/x-python",
   "name": "python",
   "nbconvert_exporter": "python",
   "pygments_lexer": "ipython3",
   "version": "3.7.7"
  }
 },
 "nbformat": 4,
 "nbformat_minor": 4
}
