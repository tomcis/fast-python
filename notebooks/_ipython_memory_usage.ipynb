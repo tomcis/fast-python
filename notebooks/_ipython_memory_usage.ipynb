{
 "cells": [
  {
   "cell_type": "code",
   "execution_count": 1,
   "metadata": {
    "execution": {
     "iopub.execute_input": "2020-09-04T18:21:39.496847Z",
     "iopub.status.busy": "2020-09-04T18:21:39.496568Z",
     "iopub.status.idle": "2020-09-04T18:21:39.732732Z",
     "shell.execute_reply": "2020-09-04T18:21:39.730851Z",
     "shell.execute_reply.started": "2020-09-04T18:21:39.496800Z"
    }
   },
   "outputs": [
    {
     "data": {
      "text/plain": [
       "'memory profile enabled'"
      ]
     },
     "execution_count": 1,
     "metadata": {},
     "output_type": "execute_result"
    },
    {
     "name": "stdout",
     "output_type": "stream",
     "text": [
      "In [1] used 0.0742 MiB RAM in 0.11s, peaked 0.00 MiB above current, total RAM usage 44.29 MiB\n"
     ]
    }
   ],
   "source": [
    "import ipython_memory_usage\n",
    "%ipython_memory_usage_start"
   ]
  },
  {
   "cell_type": "code",
   "execution_count": 2,
   "metadata": {
    "execution": {
     "iopub.execute_input": "2020-09-04T18:21:39.959272Z",
     "iopub.status.busy": "2020-09-04T18:21:39.958943Z",
     "iopub.status.idle": "2020-09-04T18:21:40.468023Z",
     "shell.execute_reply": "2020-09-04T18:21:40.466813Z",
     "shell.execute_reply.started": "2020-09-04T18:21:39.959135Z"
    }
   },
   "outputs": [
    {
     "name": "stdout",
     "output_type": "stream",
     "text": [
      "In [2] used 39.2891 MiB RAM in 0.50s, peaked 0.00 MiB above current, total RAM usage 83.58 MiB\n"
     ]
    }
   ],
   "source": [
    "import sys\n",
    "\n",
    "import numpy as np\n",
    "import pandas as pd"
   ]
  },
  {
   "cell_type": "code",
   "execution_count": 3,
   "metadata": {
    "execution": {
     "iopub.execute_input": "2020-09-04T18:21:40.470172Z",
     "iopub.status.busy": "2020-09-04T18:21:40.469860Z",
     "iopub.status.idle": "2020-09-04T18:21:40.616355Z",
     "shell.execute_reply": "2020-09-04T18:21:40.614651Z",
     "shell.execute_reply.started": "2020-09-04T18:21:40.470109Z"
    }
   },
   "outputs": [
    {
     "name": "stdout",
     "output_type": "stream",
     "text": [
      "In [3] used 76.3672 MiB RAM in 0.14s, peaked 0.00 MiB above current, total RAM usage 159.95 MiB\n"
     ]
    }
   ],
   "source": [
    "a = np.ones(int(1e7))"
   ]
  },
  {
   "cell_type": "code",
   "execution_count": 4,
   "metadata": {
    "execution": {
     "iopub.execute_input": "2020-09-04T18:21:41.034291Z",
     "iopub.status.busy": "2020-09-04T18:21:41.033893Z",
     "iopub.status.idle": "2020-09-04T18:21:41.040203Z",
     "shell.execute_reply": "2020-09-04T18:21:41.039444Z",
     "shell.execute_reply.started": "2020-09-04T18:21:41.034123Z"
    }
   },
   "outputs": [
    {
     "data": {
      "text/plain": [
       "'memory profile disabled'"
      ]
     },
     "execution_count": 4,
     "metadata": {},
     "output_type": "execute_result"
    }
   ],
   "source": [
    "%ipython_memory_usage_stop"
   ]
  },
  {
   "cell_type": "code",
   "execution_count": 5,
   "metadata": {
    "execution": {
     "iopub.execute_input": "2020-09-04T18:21:42.962195Z",
     "iopub.status.busy": "2020-09-04T18:21:42.961936Z",
     "iopub.status.idle": "2020-09-04T18:21:42.967457Z",
     "shell.execute_reply": "2020-09-04T18:21:42.966471Z",
     "shell.execute_reply.started": "2020-09-04T18:21:42.962153Z"
    }
   },
   "outputs": [
    {
     "data": {
      "text/plain": [
       "80000096"
      ]
     },
     "execution_count": 5,
     "metadata": {},
     "output_type": "execute_result"
    }
   ],
   "source": [
    "sys.getsizeof(a)"
   ]
  },
  {
   "cell_type": "code",
   "execution_count": 6,
   "metadata": {
    "execution": {
     "iopub.execute_input": "2020-09-04T18:21:44.959646Z",
     "iopub.status.busy": "2020-09-04T18:21:44.959344Z",
     "iopub.status.idle": "2020-09-04T18:21:44.967076Z",
     "shell.execute_reply": "2020-09-04T18:21:44.966217Z",
     "shell.execute_reply.started": "2020-09-04T18:21:44.959593Z"
    }
   },
   "outputs": [
    {
     "data": {
      "text/plain": [
       "80000128"
      ]
     },
     "execution_count": 6,
     "metadata": {},
     "output_type": "execute_result"
    }
   ],
   "source": [
    "size = sys.getsizeof(a) + sys.getsizeof(pd.DataFrame()); size"
   ]
  },
  {
   "cell_type": "code",
   "execution_count": 7,
   "metadata": {
    "execution": {
     "iopub.execute_input": "2020-09-04T18:21:46.034255Z",
     "iopub.status.busy": "2020-09-04T18:21:46.033994Z",
     "iopub.status.idle": "2020-09-04T18:21:46.041383Z",
     "shell.execute_reply": "2020-09-04T18:21:46.040395Z",
     "shell.execute_reply.started": "2020-09-04T18:21:46.034215Z"
    }
   },
   "outputs": [
    {
     "data": {
      "text/plain": [
       "80000128"
      ]
     },
     "execution_count": 7,
     "metadata": {},
     "output_type": "execute_result"
    }
   ],
   "source": [
    "size_ = pd.DataFrame(a).memory_usage().sum(); size_"
   ]
  },
  {
   "cell_type": "code",
   "execution_count": 8,
   "metadata": {
    "execution": {
     "iopub.execute_input": "2020-09-04T18:21:48.599338Z",
     "iopub.status.busy": "2020-09-04T18:21:48.599082Z",
     "iopub.status.idle": "2020-09-04T18:21:48.603183Z",
     "shell.execute_reply": "2020-09-04T18:21:48.602221Z",
     "shell.execute_reply.started": "2020-09-04T18:21:48.599298Z"
    }
   },
   "outputs": [],
   "source": [
    "assert(size == size_)"
   ]
  }
 ],
 "metadata": {
  "kernelspec": {
   "display_name": "Python 3",
   "language": "python",
   "name": "python3"
  },
  "language_info": {
   "codemirror_mode": {
    "name": "ipython",
    "version": 3
   },
   "file_extension": ".py",
   "mimetype": "text/x-python",
   "name": "python",
   "nbconvert_exporter": "python",
   "pygments_lexer": "ipython3",
   "version": "3.7.7"
  }
 },
 "nbformat": 4,
 "nbformat_minor": 4
}
