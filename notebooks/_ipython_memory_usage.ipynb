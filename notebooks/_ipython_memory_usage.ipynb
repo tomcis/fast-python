{
 "cells": [
  {
   "cell_type": "code",
   "execution_count": 1,
   "metadata": {
    "execution": {
     "iopub.execute_input": "2020-10-02T17:43:57.734403Z",
     "iopub.status.busy": "2020-10-02T17:43:57.734130Z",
     "iopub.status.idle": "2020-10-02T17:43:57.963061Z",
     "shell.execute_reply": "2020-10-02T17:43:57.962184Z",
     "shell.execute_reply.started": "2020-10-02T17:43:57.734340Z"
    }
   },
   "outputs": [
    {
     "data": {
      "text/plain": [
       "'memory profile enabled'"
      ]
     },
     "execution_count": 1,
     "metadata": {},
     "output_type": "execute_result"
    },
    {
     "name": "stdout",
     "output_type": "stream",
     "text": [
      "In [1] used 0.0586 MiB RAM in 0.11s, peaked 0.00 MiB above current, total RAM usage 44.45 MiB\n"
     ]
    }
   ],
   "source": [
    "import ipython_memory_usage\n",
    "%ipython_memory_usage_start"
   ]
  },
  {
   "cell_type": "code",
   "execution_count": 2,
   "metadata": {
    "execution": {
     "iopub.execute_input": "2020-10-02T17:43:58.220432Z",
     "iopub.status.busy": "2020-10-02T17:43:58.220210Z",
     "iopub.status.idle": "2020-10-02T17:43:58.710422Z",
     "shell.execute_reply": "2020-10-02T17:43:58.709830Z",
     "shell.execute_reply.started": "2020-10-02T17:43:58.220410Z"
    }
   },
   "outputs": [
    {
     "name": "stdout",
     "output_type": "stream",
     "text": [
      "In [2] used 27.0586 MiB RAM in 0.49s, peaked 0.00 MiB above current, total RAM usage 71.51 MiB\n"
     ]
    }
   ],
   "source": [
    "import sys\n",
    "\n",
    "import numpy as np\n",
    "import pandas as pd"
   ]
  },
  {
   "cell_type": "code",
   "execution_count": 3,
   "metadata": {
    "execution": {
     "iopub.execute_input": "2020-10-02T17:43:58.836821Z",
     "iopub.status.busy": "2020-10-02T17:43:58.836585Z",
     "iopub.status.idle": "2020-10-02T17:43:58.985235Z",
     "shell.execute_reply": "2020-10-02T17:43:58.984304Z",
     "shell.execute_reply.started": "2020-10-02T17:43:58.836797Z"
    }
   },
   "outputs": [
    {
     "name": "stdout",
     "output_type": "stream",
     "text": [
      "In [3] used 76.3164 MiB RAM in 0.14s, peaked 0.00 MiB above current, total RAM usage 147.83 MiB\n"
     ]
    }
   ],
   "source": [
    "a = np.ones(int(1e7))"
   ]
  },
  {
   "cell_type": "code",
   "execution_count": 4,
   "metadata": {
    "execution": {
     "iopub.execute_input": "2020-10-02T17:43:59.312717Z",
     "iopub.status.busy": "2020-10-02T17:43:59.312399Z",
     "iopub.status.idle": "2020-10-02T17:43:59.319288Z",
     "shell.execute_reply": "2020-10-02T17:43:59.318199Z",
     "shell.execute_reply.started": "2020-10-02T17:43:59.312677Z"
    }
   },
   "outputs": [
    {
     "data": {
      "text/plain": [
       "'memory profile disabled'"
      ]
     },
     "execution_count": 4,
     "metadata": {},
     "output_type": "execute_result"
    }
   ],
   "source": [
    "%ipython_memory_usage_stop"
   ]
  },
  {
   "cell_type": "code",
   "execution_count": 5,
   "metadata": {
    "execution": {
     "iopub.execute_input": "2020-10-02T17:43:59.721361Z",
     "iopub.status.busy": "2020-10-02T17:43:59.721094Z",
     "iopub.status.idle": "2020-10-02T17:43:59.726244Z",
     "shell.execute_reply": "2020-10-02T17:43:59.725138Z",
     "shell.execute_reply.started": "2020-10-02T17:43:59.721335Z"
    }
   },
   "outputs": [
    {
     "data": {
      "text/plain": [
       "80000096"
      ]
     },
     "execution_count": 5,
     "metadata": {},
     "output_type": "execute_result"
    }
   ],
   "source": [
    "size = sys.getsizeof(a); size"
   ]
  },
  {
   "cell_type": "code",
   "execution_count": 6,
   "metadata": {
    "execution": {
     "iopub.execute_input": "2020-10-02T17:44:00.487842Z",
     "iopub.status.busy": "2020-10-02T17:44:00.487581Z",
     "iopub.status.idle": "2020-10-02T17:44:00.495277Z",
     "shell.execute_reply": "2020-10-02T17:44:00.494521Z",
     "shell.execute_reply.started": "2020-10-02T17:44:00.487815Z"
    }
   },
   "outputs": [
    {
     "data": {
      "text/plain": [
       "80000128"
      ]
     },
     "execution_count": 6,
     "metadata": {},
     "output_type": "execute_result"
    }
   ],
   "source": [
    "size_ = pd.DataFrame(a).memory_usage(deep=True).sum(); size_"
   ]
  },
  {
   "cell_type": "code",
   "execution_count": 7,
   "metadata": {
    "execution": {
     "iopub.execute_input": "2020-10-02T17:44:01.529229Z",
     "iopub.status.busy": "2020-10-02T17:44:01.528985Z",
     "iopub.status.idle": "2020-10-02T17:44:01.532567Z",
     "shell.execute_reply": "2020-10-02T17:44:01.531753Z",
     "shell.execute_reply.started": "2020-10-02T17:44:01.529204Z"
    }
   },
   "outputs": [],
   "source": [
    "assert size <= size_"
   ]
  }
 ],
 "metadata": {
  "kernelspec": {
   "display_name": "Python 3",
   "language": "python",
   "name": "python3"
  },
  "language_info": {
   "codemirror_mode": {
    "name": "ipython",
    "version": 3
   },
   "file_extension": ".py",
   "mimetype": "text/x-python",
   "name": "python",
   "nbconvert_exporter": "python",
   "pygments_lexer": "ipython3",
   "version": "3.8.5"
  }
 },
 "nbformat": 4,
 "nbformat_minor": 4
}
