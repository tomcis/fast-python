{
 "cells": [
  {
   "cell_type": "code",
   "execution_count": 1,
   "metadata": {
    "execution": {
     "iopub.execute_input": "2020-09-02T20:37:09.340743Z",
     "iopub.status.busy": "2020-09-02T20:37:09.340488Z",
     "iopub.status.idle": "2020-09-02T20:37:09.469906Z",
     "shell.execute_reply": "2020-09-02T20:37:09.468326Z",
     "shell.execute_reply.started": "2020-09-02T20:37:09.340700Z"
    }
   },
   "outputs": [],
   "source": [
    "import ipython_memory_usage"
   ]
  },
  {
   "cell_type": "code",
   "execution_count": 2,
   "metadata": {
    "execution": {
     "iopub.execute_input": "2020-09-02T20:37:09.472168Z",
     "iopub.status.busy": "2020-09-02T20:37:09.471901Z",
     "iopub.status.idle": "2020-09-02T20:37:09.589613Z",
     "shell.execute_reply": "2020-09-02T20:37:09.588325Z",
     "shell.execute_reply.started": "2020-09-02T20:37:09.472122Z"
    }
   },
   "outputs": [
    {
     "data": {
      "text/plain": [
       "'memory profile enabled'"
      ]
     },
     "execution_count": 2,
     "metadata": {},
     "output_type": "execute_result"
    },
    {
     "name": "stdout",
     "output_type": "stream",
     "text": [
      "In [2] used 0.1211 MiB RAM in 0.12s, peaked 0.00 MiB above current, total RAM usage 44.46 MiB\n"
     ]
    }
   ],
   "source": [
    "%ipython_memory_usage_start"
   ]
  },
  {
   "cell_type": "code",
   "execution_count": 3,
   "metadata": {
    "execution": {
     "iopub.execute_input": "2020-09-02T20:37:09.591153Z",
     "iopub.status.busy": "2020-09-02T20:37:09.590927Z",
     "iopub.status.idle": "2020-09-02T20:37:09.861199Z",
     "shell.execute_reply": "2020-09-02T20:37:09.858674Z",
     "shell.execute_reply.started": "2020-09-02T20:37:09.591116Z"
    }
   },
   "outputs": [
    {
     "name": "stdout",
     "output_type": "stream",
     "text": [
      "In [3] used 8.9805 MiB RAM in 0.26s, peaked 0.00 MiB above current, total RAM usage 53.44 MiB\n"
     ]
    }
   ],
   "source": [
    "import numpy as np"
   ]
  },
  {
   "cell_type": "code",
   "execution_count": 4,
   "metadata": {
    "execution": {
     "iopub.execute_input": "2020-09-02T20:37:09.862962Z",
     "iopub.status.busy": "2020-09-02T20:37:09.862720Z",
     "iopub.status.idle": "2020-09-02T20:37:10.011283Z",
     "shell.execute_reply": "2020-09-02T20:37:10.009740Z",
     "shell.execute_reply.started": "2020-09-02T20:37:09.862924Z"
    }
   },
   "outputs": [
    {
     "name": "stdout",
     "output_type": "stream",
     "text": [
      "In [4] used 76.3555 MiB RAM in 0.14s, peaked 0.00 MiB above current, total RAM usage 129.80 MiB\n"
     ]
    }
   ],
   "source": [
    "a = np.ones(int(1e7))"
   ]
  },
  {
   "cell_type": "code",
   "execution_count": 5,
   "metadata": {
    "execution": {
     "iopub.execute_input": "2020-09-02T20:37:10.014996Z",
     "iopub.status.busy": "2020-09-02T20:37:10.014698Z",
     "iopub.status.idle": "2020-09-02T20:37:10.635785Z",
     "shell.execute_reply": "2020-09-02T20:37:10.634827Z",
     "shell.execute_reply.started": "2020-09-02T20:37:10.014912Z"
    }
   },
   "outputs": [
    {
     "name": "stdout",
     "output_type": "stream",
     "text": [
      "In [5] used 30.2773 MiB RAM in 0.62s, peaked 0.00 MiB above current, total RAM usage 160.07 MiB\n"
     ]
    }
   ],
   "source": [
    "import pandas as pd"
   ]
  },
  {
   "cell_type": "code",
   "execution_count": 6,
   "metadata": {
    "execution": {
     "iopub.execute_input": "2020-09-02T20:37:10.638024Z",
     "iopub.status.busy": "2020-09-02T20:37:10.637746Z",
     "iopub.status.idle": "2020-09-02T20:37:10.748009Z",
     "shell.execute_reply": "2020-09-02T20:37:10.746856Z",
     "shell.execute_reply.started": "2020-09-02T20:37:10.637977Z"
    }
   },
   "outputs": [
    {
     "name": "stdout",
     "output_type": "stream",
     "text": [
      "In [6] used 0.0977 MiB RAM in 0.10s, peaked 0.00 MiB above current, total RAM usage 160.17 MiB\n"
     ]
    }
   ],
   "source": [
    "df = pd.DataFrame(a)"
   ]
  },
  {
   "cell_type": "code",
   "execution_count": 7,
   "metadata": {
    "execution": {
     "iopub.execute_input": "2020-09-02T20:37:10.749908Z",
     "iopub.status.busy": "2020-09-02T20:37:10.749623Z",
     "iopub.status.idle": "2020-09-02T20:37:10.861548Z",
     "shell.execute_reply": "2020-09-02T20:37:10.859248Z",
     "shell.execute_reply.started": "2020-09-02T20:37:10.749870Z"
    }
   },
   "outputs": [
    {
     "data": {
      "text/plain": [
       "Index         128\n",
       "0        80000000\n",
       "dtype: int64"
      ]
     },
     "execution_count": 7,
     "metadata": {},
     "output_type": "execute_result"
    },
    {
     "name": "stdout",
     "output_type": "stream",
     "text": [
      "In [7] used 0.3008 MiB RAM in 0.11s, peaked 0.00 MiB above current, total RAM usage 160.47 MiB\n"
     ]
    }
   ],
   "source": [
    "df.memory_usage(deep=True)"
   ]
  },
  {
   "cell_type": "code",
   "execution_count": 8,
   "metadata": {
    "execution": {
     "iopub.execute_input": "2020-09-02T20:37:10.863013Z",
     "iopub.status.busy": "2020-09-02T20:37:10.862775Z",
     "iopub.status.idle": "2020-09-02T20:37:10.869681Z",
     "shell.execute_reply": "2020-09-02T20:37:10.868674Z",
     "shell.execute_reply.started": "2020-09-02T20:37:10.862973Z"
    }
   },
   "outputs": [
    {
     "data": {
      "text/plain": [
       "'memory profile disabled'"
      ]
     },
     "execution_count": 8,
     "metadata": {},
     "output_type": "execute_result"
    }
   ],
   "source": [
    "%ipython_memory_usage_stop"
   ]
  }
 ],
 "metadata": {
  "kernelspec": {
   "display_name": "Python 3",
   "language": "python",
   "name": "python3"
  },
  "language_info": {
   "codemirror_mode": {
    "name": "ipython",
    "version": 3
   },
   "file_extension": ".py",
   "mimetype": "text/x-python",
   "name": "python",
   "nbconvert_exporter": "python",
   "pygments_lexer": "ipython3",
   "version": "3.7.7"
  }
 },
 "nbformat": 4,
 "nbformat_minor": 4
}
