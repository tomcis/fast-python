{
 "cells": [
  {
   "cell_type": "code",
   "execution_count": 1,
   "metadata": {
    "execution": {
     "iopub.execute_input": "2020-10-06T08:29:27.831786Z",
     "iopub.status.busy": "2020-10-06T08:29:27.831491Z",
     "iopub.status.idle": "2020-10-06T08:29:27.850823Z",
     "shell.execute_reply": "2020-10-06T08:29:27.850204Z",
     "shell.execute_reply.started": "2020-10-06T08:29:27.831717Z"
    }
   },
   "outputs": [],
   "source": [
    "%load_ext memory_profiler"
   ]
  },
  {
   "cell_type": "code",
   "execution_count": 2,
   "metadata": {
    "execution": {
     "iopub.execute_input": "2020-10-06T08:29:28.257667Z",
     "iopub.status.busy": "2020-10-06T08:29:28.257439Z",
     "iopub.status.idle": "2020-10-06T08:29:30.967020Z",
     "shell.execute_reply": "2020-10-06T08:29:30.966160Z",
     "shell.execute_reply.started": "2020-10-06T08:29:28.257642Z"
    }
   },
   "outputs": [
    {
     "name": "stdout",
     "output_type": "stream",
     "text": [
      "peak memory: 44.72 MiB, increment: 0.29 MiB\n"
     ]
    }
   ],
   "source": [
    "%memit range(10000)"
   ]
  },
  {
   "cell_type": "code",
   "execution_count": null,
   "metadata": {},
   "outputs": [],
   "source": []
  }
 ],
 "metadata": {
  "kernelspec": {
   "display_name": "Python 3",
   "language": "python",
   "name": "python3"
  },
  "language_info": {
   "codemirror_mode": {
    "name": "ipython",
    "version": 3
   },
   "file_extension": ".py",
   "mimetype": "text/x-python",
   "name": "python",
   "nbconvert_exporter": "python",
   "pygments_lexer": "ipython3",
   "version": "3.8.5"
  }
 },
 "nbformat": 4,
 "nbformat_minor": 4
}
