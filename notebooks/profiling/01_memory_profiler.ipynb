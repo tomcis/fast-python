{
 "cells": [
  {
   "cell_type": "code",
   "execution_count": 1,
   "metadata": {
    "execution": {
     "iopub.execute_input": "2020-10-08T22:59:06.459371Z",
     "iopub.status.busy": "2020-10-08T22:59:06.459085Z",
     "iopub.status.idle": "2020-10-08T22:59:06.479403Z",
     "shell.execute_reply": "2020-10-08T22:59:06.478738Z",
     "shell.execute_reply.started": "2020-10-08T22:59:06.459306Z"
    }
   },
   "outputs": [],
   "source": [
    "%load_ext memory_profiler"
   ]
  },
  {
   "cell_type": "code",
   "execution_count": 2,
   "metadata": {
    "execution": {
     "iopub.execute_input": "2020-10-08T22:59:06.816254Z",
     "iopub.status.busy": "2020-10-08T22:59:06.815971Z",
     "iopub.status.idle": "2020-10-08T22:59:09.558911Z",
     "shell.execute_reply": "2020-10-08T22:59:09.558122Z",
     "shell.execute_reply.started": "2020-10-08T22:59:06.816205Z"
    }
   },
   "outputs": [
    {
     "name": "stdout",
     "output_type": "stream",
     "text": [
      "peak memory: 44.78 MiB, increment: 0.30 MiB\n"
     ]
    }
   ],
   "source": [
    "%memit range(10000)"
   ]
  },
  {
   "cell_type": "code",
   "execution_count": 3,
   "metadata": {
    "execution": {
     "iopub.execute_input": "2020-10-08T22:59:09.561308Z",
     "iopub.status.busy": "2020-10-08T22:59:09.561058Z",
     "iopub.status.idle": "2020-10-08T22:59:12.256367Z",
     "shell.execute_reply": "2020-10-08T22:59:12.255543Z",
     "shell.execute_reply.started": "2020-10-08T22:59:09.561281Z"
    }
   },
   "outputs": [
    {
     "name": "stdout",
     "output_type": "stream",
     "text": [
      "peak memory: 44.88 MiB, increment: 0.04 MiB\n"
     ]
    }
   ],
   "source": [
    "%%memit l=range(1000000)\n",
    "len(l)"
   ]
  },
  {
   "cell_type": "code",
   "execution_count": null,
   "metadata": {},
   "outputs": [],
   "source": []
  }
 ],
 "metadata": {
  "kernelspec": {
   "display_name": "Python 3",
   "language": "python",
   "name": "python3"
  },
  "language_info": {
   "codemirror_mode": {
    "name": "ipython",
    "version": 3
   },
   "file_extension": ".py",
   "mimetype": "text/x-python",
   "name": "python",
   "nbconvert_exporter": "python",
   "pygments_lexer": "ipython3",
   "version": "3.8.5"
  }
 },
 "nbformat": 4,
 "nbformat_minor": 4
}
