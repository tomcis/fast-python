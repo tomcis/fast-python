{
 "cells": [
  {
   "cell_type": "code",
   "execution_count": 1,
   "metadata": {
    "execution": {
     "iopub.execute_input": "2020-06-21T14:27:14.441550Z",
     "iopub.status.busy": "2020-06-21T14:27:14.441274Z",
     "iopub.status.idle": "2020-06-21T14:27:15.309987Z",
     "shell.execute_reply": "2020-06-21T14:27:15.308945Z",
     "shell.execute_reply.started": "2020-06-21T14:27:14.441504Z"
    }
   },
   "outputs": [],
   "source": [
    "import numpy as np\n",
    "import pandas as pd"
   ]
  },
  {
   "cell_type": "code",
   "execution_count": 2,
   "metadata": {
    "execution": {
     "iopub.execute_input": "2020-06-21T14:30:14.654348Z",
     "iopub.status.busy": "2020-06-21T14:30:14.654079Z",
     "iopub.status.idle": "2020-06-21T14:30:15.758781Z",
     "shell.execute_reply": "2020-06-21T14:30:15.757954Z",
     "shell.execute_reply.started": "2020-06-21T14:30:14.654306Z"
    }
   },
   "outputs": [],
   "source": [
    "from numba import jit"
   ]
  },
  {
   "cell_type": "code",
   "execution_count": 4,
   "metadata": {
    "execution": {
     "iopub.execute_input": "2020-06-21T14:27:40.108708Z",
     "iopub.status.busy": "2020-06-21T14:27:40.108423Z",
     "iopub.status.idle": "2020-06-21T14:27:40.112766Z",
     "shell.execute_reply": "2020-06-21T14:27:40.111745Z",
     "shell.execute_reply.started": "2020-06-21T14:27:40.108665Z"
    }
   },
   "outputs": [],
   "source": [
    "def f(x, y):\n",
    "    # A somewhat trivial example\n",
    "    return x + y"
   ]
  },
  {
   "cell_type": "code",
   "execution_count": 5,
   "metadata": {
    "execution": {
     "iopub.execute_input": "2020-06-21T14:27:44.407904Z",
     "iopub.status.busy": "2020-06-21T14:27:44.407647Z",
     "iopub.status.idle": "2020-06-21T14:27:44.418634Z",
     "shell.execute_reply": "2020-06-21T14:27:44.417529Z",
     "shell.execute_reply.started": "2020-06-21T14:27:44.407864Z"
    }
   },
   "outputs": [
    {
     "output_type": "execute_result",
     "data": {
      "text/plain": "3"
     },
     "metadata": {},
     "execution_count": 5
    }
   ],
   "source": [
    "f(1, 2)"
   ]
  },
  {
   "cell_type": "code",
   "execution_count": 6,
   "metadata": {
    "execution": {
     "iopub.execute_input": "2020-06-21T14:29:00.766957Z",
     "iopub.status.busy": "2020-06-21T14:29:00.766625Z",
     "iopub.status.idle": "2020-06-21T14:29:09.472485Z",
     "shell.execute_reply": "2020-06-21T14:29:09.471579Z",
     "shell.execute_reply.started": "2020-06-21T14:29:00.766905Z"
    },
    "tags": []
   },
   "outputs": [
    {
     "output_type": "stream",
     "name": "stdout",
     "text": "102 ms ± 1.68 ms per loop (mean ± std. dev. of 7 runs, 10 loops each)\n"
    }
   ],
   "source": [
    "%%timeit\n",
    "for i in range(10**6):\n",
    "    f(i, i)"
   ]
  },
  {
   "cell_type": "code",
   "execution_count": 7,
   "metadata": {
    "execution": {
     "iopub.execute_input": "2020-06-21T14:30:17.479764Z",
     "iopub.status.busy": "2020-06-21T14:30:17.479465Z",
     "iopub.status.idle": "2020-06-21T14:30:17.484178Z",
     "shell.execute_reply": "2020-06-21T14:30:17.483052Z",
     "shell.execute_reply.started": "2020-06-21T14:30:17.479718Z"
    }
   },
   "outputs": [],
   "source": [
    "@jit\n",
    "def f2(x, y):\n",
    "    # A somewhat trivial example\n",
    "    return x + y"
   ]
  },
  {
   "cell_type": "code",
   "execution_count": 8,
   "metadata": {
    "execution": {
     "iopub.execute_input": "2020-06-21T14:30:30.250150Z",
     "iopub.status.busy": "2020-06-21T14:30:30.249886Z",
     "iopub.status.idle": "2020-06-21T14:30:43.213393Z",
     "shell.execute_reply": "2020-06-21T14:30:43.212680Z",
     "shell.execute_reply.started": "2020-06-21T14:30:30.250108Z"
    },
    "tags": []
   },
   "outputs": [
    {
     "output_type": "stream",
     "name": "stdout",
     "text": "161 ms ± 4.61 ms per loop (mean ± std. dev. of 7 runs, 1 loop each)\n"
    }
   ],
   "source": [
    "%%timeit\n",
    "for i in range(10**6):\n",
    "    f2(i, i)"
   ]
  },
  {
   "cell_type": "code",
   "execution_count": 9,
   "metadata": {
    "execution": {
     "iopub.execute_input": "2020-06-21T14:30:59.080555Z",
     "iopub.status.busy": "2020-06-21T14:30:59.080296Z",
     "iopub.status.idle": "2020-06-21T14:30:59.085121Z",
     "shell.execute_reply": "2020-06-21T14:30:59.084136Z",
     "shell.execute_reply.started": "2020-06-21T14:30:59.080515Z"
    }
   },
   "outputs": [],
   "source": [
    "@jit\n",
    "def func():\n",
    "    for i in range(10**6):\n",
    "        f2(i, i)"
   ]
  },
  {
   "cell_type": "code",
   "execution_count": 10,
   "metadata": {
    "execution": {
     "iopub.execute_input": "2020-06-21T14:31:12.726576Z",
     "iopub.status.busy": "2020-06-21T14:31:12.726262Z",
     "iopub.status.idle": "2020-06-21T14:31:17.596053Z",
     "shell.execute_reply": "2020-06-21T14:31:17.595063Z",
     "shell.execute_reply.started": "2020-06-21T14:31:12.726526Z"
    },
    "tags": []
   },
   "outputs": [
    {
     "output_type": "stream",
     "name": "stdout",
     "text": "59.2 ns ± 0.288 ns per loop (mean ± std. dev. of 7 runs, 10000000 loops each)\n"
    }
   ],
   "source": [
    "%%timeit\n",
    "func()"
   ]
  },
  {
   "cell_type": "code",
   "execution_count": 11,
   "metadata": {
    "execution": {
     "iopub.execute_input": "2020-06-21T15:12:51.642509Z",
     "iopub.status.busy": "2020-06-21T15:12:51.642257Z",
     "iopub.status.idle": "2020-06-21T15:12:51.646950Z",
     "shell.execute_reply": "2020-06-21T15:12:51.645909Z",
     "shell.execute_reply.started": "2020-06-21T15:12:51.642468Z"
    }
   },
   "outputs": [],
   "source": [
    "@jit(nopython=True)\n",
    "def func2():\n",
    "    for i in range(10**6):\n",
    "        f2(i, i)"
   ]
  },
  {
   "cell_type": "code",
   "execution_count": 12,
   "metadata": {
    "execution": {
     "iopub.execute_input": "2020-06-21T15:12:53.847096Z",
     "iopub.status.busy": "2020-06-21T15:12:53.846853Z",
     "iopub.status.idle": "2020-06-21T15:12:58.734141Z",
     "shell.execute_reply": "2020-06-21T15:12:58.733337Z",
     "shell.execute_reply.started": "2020-06-21T15:12:53.847060Z"
    },
    "tags": []
   },
   "outputs": [
    {
     "output_type": "stream",
     "name": "stdout",
     "text": "56.6 ns ± 0.992 ns per loop (mean ± std. dev. of 7 runs, 10000000 loops each)\n"
    }
   ],
   "source": [
    "%%timeit\n",
    "func2()"
   ]
  }
 ],
 "metadata": {
  "kernelspec": {
   "display_name": "Python 3",
   "language": "python",
   "name": "python3"
  },
  "language_info": {
   "codemirror_mode": {
    "name": "ipython",
    "version": 3
   },
   "file_extension": ".py",
   "mimetype": "text/x-python",
   "name": "python",
   "nbconvert_exporter": "python",
   "pygments_lexer": "ipython3",
   "version": "3.7.7"
  }
 },
 "nbformat": 4,
 "nbformat_minor": 4
}