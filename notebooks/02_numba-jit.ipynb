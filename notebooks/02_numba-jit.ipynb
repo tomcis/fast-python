{
 "cells": [
  {
   "cell_type": "markdown",
   "metadata": {},
   "source": [
    "Useful resources:\n",
    "- https://medium.com/better-programming/why-python-written-in-python-is-faster-than-regular-python-b682992d5812"
   ]
  },
  {
   "cell_type": "code",
   "execution_count": 1,
   "metadata": {
    "execution": {
     "iopub.execute_input": "2020-08-21T20:56:23.175192Z",
     "iopub.status.busy": "2020-08-21T20:56:23.174943Z",
     "iopub.status.idle": "2020-08-21T20:56:26.337989Z",
     "shell.execute_reply": "2020-08-21T20:56:26.337123Z",
     "shell.execute_reply.started": "2020-08-21T20:56:23.175154Z"
    }
   },
   "outputs": [],
   "source": [
    "import numpy as np\n",
    "import pandas as pd\n",
    "from numba import jit"
   ]
  },
  {
   "cell_type": "code",
   "execution_count": 2,
   "metadata": {
    "execution": {
     "iopub.execute_input": "2020-08-21T20:56:26.339834Z",
     "iopub.status.busy": "2020-08-21T20:56:26.339609Z",
     "iopub.status.idle": "2020-08-21T20:56:26.371026Z",
     "shell.execute_reply": "2020-08-21T20:56:26.369977Z",
     "shell.execute_reply.started": "2020-08-21T20:56:26.339797Z"
    }
   },
   "outputs": [],
   "source": [
    "%load_ext autoreload\n",
    "%autoreload 2"
   ]
  },
  {
   "cell_type": "code",
   "execution_count": 3,
   "metadata": {
    "execution": {
     "iopub.execute_input": "2020-08-21T20:56:26.372370Z",
     "iopub.status.busy": "2020-08-21T20:56:26.372134Z",
     "iopub.status.idle": "2020-08-21T20:56:26.396623Z",
     "shell.execute_reply": "2020-08-21T20:56:26.395730Z",
     "shell.execute_reply.started": "2020-08-21T20:56:26.372334Z"
    }
   },
   "outputs": [],
   "source": [
    "def f(x, y):\n",
    "    # A somewhat trivial example\n",
    "    return x + y"
   ]
  },
  {
   "cell_type": "code",
   "execution_count": 4,
   "metadata": {
    "execution": {
     "iopub.execute_input": "2020-08-21T20:56:26.397968Z",
     "iopub.status.busy": "2020-08-21T20:56:26.397736Z",
     "iopub.status.idle": "2020-08-21T20:56:26.431578Z",
     "shell.execute_reply": "2020-08-21T20:56:26.430902Z",
     "shell.execute_reply.started": "2020-08-21T20:56:26.397931Z"
    }
   },
   "outputs": [
    {
     "data": {
      "text/plain": [
       "3"
      ]
     },
     "execution_count": 4,
     "metadata": {},
     "output_type": "execute_result"
    }
   ],
   "source": [
    "f(1, 2)"
   ]
  },
  {
   "cell_type": "code",
   "execution_count": 5,
   "metadata": {
    "execution": {
     "iopub.execute_input": "2020-08-21T20:56:26.434253Z",
     "iopub.status.busy": "2020-08-21T20:56:26.434002Z",
     "iopub.status.idle": "2020-08-21T20:56:26.461874Z",
     "shell.execute_reply": "2020-08-21T20:56:26.459768Z",
     "shell.execute_reply.started": "2020-08-21T20:56:26.434213Z"
    }
   },
   "outputs": [
    {
     "data": {
      "text/plain": [
       "10000000000"
      ]
     },
     "execution_count": 5,
     "metadata": {},
     "output_type": "execute_result"
    }
   ],
   "source": [
    "N = 10**10\n",
    "N"
   ]
  },
  {
   "cell_type": "markdown",
   "metadata": {},
   "source": [
    "Result: `1 + 2 = 3`"
   ]
  },
  {
   "cell_type": "code",
   "execution_count": null,
   "metadata": {
    "execution": {
     "iopub.execute_input": "2020-08-21T20:57:11.046524Z",
     "iopub.status.busy": "2020-08-21T20:57:11.046250Z"
    },
    "tags": []
   },
   "outputs": [],
   "source": [
    "def func():\n",
    "    for i in range(N):\n",
    "        f(i, i)\n",
    "%timeit func()"
   ]
  },
  {
   "cell_type": "markdown",
   "metadata": {
    "execution": {
     "iopub.execute_input": "2020-08-10T10:24:42.521210Z",
     "iopub.status.busy": "2020-08-10T10:24:42.520917Z",
     "iopub.status.idle": "2020-08-10T10:24:42.527268Z",
     "shell.execute_reply": "2020-08-10T10:24:42.525747Z",
     "shell.execute_reply.started": "2020-08-10T10:24:42.521166Z"
    }
   },
   "source": [
    "Same function of addition decorated with `@numba.jit`:"
   ]
  },
  {
   "cell_type": "code",
   "execution_count": 7,
   "metadata": {
    "execution": {
     "iopub.execute_input": "2020-08-21T20:56:28.178440Z",
     "iopub.status.busy": "2020-08-21T20:56:28.178260Z",
     "iopub.status.idle": "2020-08-21T20:56:28.201039Z",
     "shell.execute_reply": "2020-08-21T20:56:28.200220Z",
     "shell.execute_reply.started": "2020-08-21T20:56:28.178412Z"
    }
   },
   "outputs": [],
   "source": [
    "f = jit(f)"
   ]
  },
  {
   "cell_type": "code",
   "execution_count": 9,
   "metadata": {
    "execution": {
     "iopub.execute_input": "2020-08-21T20:57:04.408109Z",
     "iopub.status.busy": "2020-08-21T20:57:04.407840Z",
     "iopub.status.idle": "2020-08-21T20:57:09.805588Z",
     "shell.execute_reply": "2020-08-21T20:57:09.804740Z",
     "shell.execute_reply.started": "2020-08-21T20:57:04.408067Z"
    }
   },
   "outputs": [
    {
     "name": "stdout",
     "output_type": "stream",
     "text": [
      "65.7 ns ± 2.64 ns per loop (mean ± std. dev. of 7 runs, 10000000 loops each)\n"
     ]
    }
   ],
   "source": [
    "@jit\n",
    "def func_jit():\n",
    "    for i in range(N):\n",
    "        f(i, i)\n",
    "%timeit func_jit()"
   ]
  },
  {
   "cell_type": "code",
   "execution_count": null,
   "metadata": {},
   "outputs": [],
   "source": []
  }
 ],
 "metadata": {
  "kernelspec": {
   "display_name": "Python 3",
   "language": "python",
   "name": "python3"
  },
  "language_info": {
   "codemirror_mode": {
    "name": "ipython",
    "version": 3
   },
   "file_extension": ".py",
   "mimetype": "text/x-python",
   "name": "python",
   "nbconvert_exporter": "python",
   "pygments_lexer": "ipython3",
   "version": "3.7.7"
  }
 },
 "nbformat": 4,
 "nbformat_minor": 4
}
