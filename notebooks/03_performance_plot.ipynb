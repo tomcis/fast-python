{
 "cells": [
  {
   "cell_type": "code",
   "execution_count": 1,
   "metadata": {
    "execution": {
     "iopub.execute_input": "2020-08-27T13:32:01.526120Z",
     "iopub.status.busy": "2020-08-27T13:32:01.525895Z",
     "iopub.status.idle": "2020-08-27T13:32:01.933141Z",
     "shell.execute_reply": "2020-08-27T13:32:01.932451Z",
     "shell.execute_reply.started": "2020-08-27T13:32:01.526084Z"
    }
   },
   "outputs": [],
   "source": [
    "%matplotlib inline"
   ]
  },
  {
   "cell_type": "code",
   "execution_count": 2,
   "metadata": {
    "execution": {
     "iopub.execute_input": "2020-08-27T13:32:01.935019Z",
     "iopub.status.busy": "2020-08-27T13:32:01.934755Z",
     "iopub.status.idle": "2020-08-27T13:32:01.944398Z",
     "shell.execute_reply": "2020-08-27T13:32:01.942316Z",
     "shell.execute_reply.started": "2020-08-27T13:32:01.934968Z"
    }
   },
   "outputs": [],
   "source": [
    "import numpy\n",
    "import perfplot\n",
    "from ing_theme_matplotlib import mpl_style"
   ]
  },
  {
   "cell_type": "code",
   "execution_count": 3,
   "metadata": {
    "execution": {
     "iopub.execute_input": "2020-08-27T13:32:01.947226Z",
     "iopub.status.busy": "2020-08-27T13:32:01.946849Z",
     "iopub.status.idle": "2020-08-27T13:32:01.954881Z",
     "shell.execute_reply": "2020-08-27T13:32:01.953514Z",
     "shell.execute_reply.started": "2020-08-27T13:32:01.947167Z"
    }
   },
   "outputs": [],
   "source": [
    "mpl_style(dark=False)"
   ]
  },
  {
   "cell_type": "code",
   "execution_count": 6,
   "metadata": {
    "execution": {
     "iopub.execute_input": "2020-08-27T13:32:41.969520Z",
     "iopub.status.busy": "2020-08-27T13:32:41.969269Z",
     "iopub.status.idle": "2020-08-27T13:33:17.410400Z",
     "shell.execute_reply": "2020-08-27T13:33:17.409616Z",
     "shell.execute_reply.started": "2020-08-27T13:32:41.969481Z"
    }
   },
   "outputs": [
    {
     "name": "stderr",
     "output_type": "stream",
     "text": [
      "  0%|          | 0/15 [00:00<?, ?it/s]\n",
      "  0%|          | 0/5 [00:00<?, ?it/s]\u001b[A\n",
      " 20%|██        | 1/5 [00:00<00:01,  2.33it/s]\u001b[A\n",
      " 40%|████      | 2/5 [00:00<00:01,  2.13it/s]\u001b[A\n",
      " 60%|██████    | 3/5 [00:01<00:00,  2.27it/s]\u001b[A\n",
      " 80%|████████  | 4/5 [00:01<00:00,  2.35it/s]\u001b[A\n",
      "100%|██████████| 5/5 [00:02<00:00,  2.48it/s]\u001b[A\n",
      "  7%|▋         | 1/15 [00:02<00:29,  2.12s/it][A\n",
      "  0%|          | 0/5 [00:00<?, ?it/s]\u001b[A\n",
      " 20%|██        | 1/5 [00:00<00:02,  1.70it/s]\u001b[A\n",
      " 40%|████      | 2/5 [00:01<00:01,  1.78it/s]\u001b[A\n",
      " 60%|██████    | 3/5 [00:01<00:01,  1.79it/s]\u001b[A\n",
      " 80%|████████  | 4/5 [00:02<00:00,  1.88it/s]\u001b[A\n",
      "100%|██████████| 5/5 [00:02<00:00,  2.06it/s]\u001b[A\n",
      " 13%|█▎        | 2/15 [00:04<00:28,  2.23s/it][A\n",
      "  0%|          | 0/5 [00:00<?, ?it/s]\u001b[A\n",
      " 20%|██        | 1/5 [00:00<00:02,  1.39it/s]\u001b[A\n",
      " 40%|████      | 2/5 [00:01<00:01,  1.52it/s]\u001b[A\n",
      " 60%|██████    | 3/5 [00:01<00:01,  1.59it/s]\u001b[A\n",
      " 80%|████████  | 4/5 [00:02<00:00,  1.72it/s]\u001b[A\n",
      "100%|██████████| 5/5 [00:02<00:00,  1.88it/s]\u001b[A\n",
      " 20%|██        | 3/15 [00:07<00:28,  2.37s/it][A\n",
      "  0%|          | 0/5 [00:00<?, ?it/s]\u001b[A\n",
      " 20%|██        | 1/5 [00:00<00:02,  1.59it/s]\u001b[A\n",
      " 40%|████      | 2/5 [00:01<00:01,  1.65it/s]\u001b[A\n",
      " 60%|██████    | 3/5 [00:01<00:01,  1.75it/s]\u001b[A\n",
      " 80%|████████  | 4/5 [00:02<00:00,  1.87it/s]\u001b[A\n",
      "100%|██████████| 5/5 [00:02<00:00,  1.99it/s]\u001b[A\n",
      " 27%|██▋       | 4/15 [00:09<00:26,  2.42s/it][A\n",
      "  0%|          | 0/5 [00:00<?, ?it/s]\u001b[A\n",
      " 20%|██        | 1/5 [00:00<00:03,  1.33it/s]\u001b[A\n",
      " 40%|████      | 2/5 [00:01<00:02,  1.47it/s]\u001b[A\n",
      " 60%|██████    | 3/5 [00:01<00:01,  1.55it/s]\u001b[A\n",
      " 80%|████████  | 4/5 [00:02<00:00,  1.70it/s]\u001b[A\n",
      "100%|██████████| 5/5 [00:02<00:00,  1.92it/s]\u001b[A\n",
      " 33%|███▎      | 5/15 [00:12<00:24,  2.49s/it][A\n",
      "  0%|          | 0/5 [00:00<?, ?it/s]\u001b[A\n",
      " 20%|██        | 1/5 [00:00<00:02,  1.40it/s]\u001b[A\n",
      " 40%|████      | 2/5 [00:01<00:01,  1.59it/s]\u001b[A\n",
      " 60%|██████    | 3/5 [00:01<00:01,  1.65it/s]\u001b[A\n",
      " 80%|████████  | 4/5 [00:02<00:00,  1.80it/s]\u001b[A\n",
      "100%|██████████| 5/5 [00:02<00:00,  1.98it/s]\u001b[A\n",
      " 40%|████      | 6/15 [00:15<00:22,  2.50s/it][A\n",
      "  0%|          | 0/5 [00:00<?, ?it/s]\u001b[A\n",
      " 20%|██        | 1/5 [00:00<00:03,  1.29it/s]\u001b[A\n",
      " 40%|████      | 2/5 [00:01<00:02,  1.42it/s]\u001b[A\n",
      " 60%|██████    | 3/5 [00:01<00:01,  1.55it/s]\u001b[A\n",
      " 80%|████████  | 4/5 [00:02<00:00,  1.75it/s]\u001b[A\n",
      "100%|██████████| 5/5 [00:02<00:00,  1.96it/s]\u001b[A\n",
      " 47%|████▋     | 7/15 [00:17<00:20,  2.53s/it][A\n",
      "  0%|          | 0/5 [00:00<?, ?it/s]\u001b[A\n",
      " 20%|██        | 1/5 [00:00<00:02,  1.65it/s]\u001b[A\n",
      " 40%|████      | 2/5 [00:01<00:01,  1.74it/s]\u001b[A\n",
      " 60%|██████    | 3/5 [00:01<00:00,  2.13it/s]\u001b[A\n",
      " 80%|████████  | 4/5 [00:01<00:00,  2.17it/s]\u001b[A\n",
      "100%|██████████| 5/5 [00:02<00:00,  2.31it/s]\u001b[A\n",
      " 53%|█████▎    | 8/15 [00:19<00:16,  2.42s/it][A\n",
      "  0%|          | 0/5 [00:00<?, ?it/s]\u001b[A\n",
      " 20%|██        | 1/5 [00:00<00:02,  1.41it/s]\u001b[A\n",
      " 40%|████      | 2/5 [00:01<00:01,  1.52it/s]\u001b[A\n",
      " 60%|██████    | 3/5 [00:01<00:01,  1.70it/s]\u001b[A\n",
      " 80%|████████  | 4/5 [00:02<00:00,  1.91it/s]\u001b[A\n",
      "100%|██████████| 5/5 [00:02<00:00,  2.14it/s]\u001b[A\n",
      " 60%|██████    | 9/15 [00:22<00:14,  2.41s/it][A\n",
      "  0%|          | 0/5 [00:00<?, ?it/s]\u001b[A\n",
      " 20%|██        | 1/5 [00:00<00:02,  1.47it/s]\u001b[A\n",
      " 40%|████      | 2/5 [00:00<00:01,  1.79it/s]\u001b[A\n",
      " 60%|██████    | 3/5 [00:01<00:01,  1.89it/s]\u001b[A\n",
      " 80%|████████  | 4/5 [00:01<00:00,  2.16it/s]\u001b[A\n",
      "100%|██████████| 5/5 [00:01<00:00,  2.51it/s]\u001b[A\n",
      " 67%|██████▋   | 10/15 [00:24<00:11,  2.28s/it]A\n",
      "  0%|          | 0/5 [00:00<?, ?it/s]\u001b[A\n",
      " 20%|██        | 1/5 [00:00<00:02,  1.43it/s]\u001b[A\n",
      " 40%|████      | 2/5 [00:01<00:01,  1.61it/s]\u001b[A\n",
      " 60%|██████    | 3/5 [00:01<00:01,  1.86it/s]\u001b[A\n",
      " 80%|████████  | 4/5 [00:01<00:00,  2.11it/s]\u001b[A\n",
      "100%|██████████| 5/5 [00:02<00:00,  2.23it/s]\u001b[A\n",
      " 73%|███████▎  | 11/15 [00:26<00:09,  2.25s/it]A\n",
      "  0%|          | 0/5 [00:00<?, ?it/s]\u001b[A\n",
      " 20%|██        | 1/5 [00:00<00:01,  2.02it/s]\u001b[A\n",
      " 40%|████      | 2/5 [00:00<00:01,  2.12it/s]\u001b[A\n",
      " 60%|██████    | 3/5 [00:01<00:00,  2.29it/s]\u001b[A\n",
      " 80%|████████  | 4/5 [00:01<00:00,  2.35it/s]\u001b[A\n",
      "100%|██████████| 5/5 [00:02<00:00,  2.39it/s]\u001b[A\n",
      " 80%|████████  | 12/15 [00:28<00:06,  2.20s/it]A\n",
      "  0%|          | 0/5 [00:00<?, ?it/s]\u001b[A\n",
      " 20%|██        | 1/5 [00:00<00:00,  7.60it/s]\u001b[A\n",
      " 40%|████      | 2/5 [00:00<00:00,  4.89it/s]\u001b[A\n",
      " 60%|██████    | 3/5 [00:01<00:00,  3.34it/s]\u001b[A\n",
      " 80%|████████  | 4/5 [00:01<00:00,  2.73it/s]\u001b[A\n",
      "100%|██████████| 5/5 [00:02<00:00,  2.45it/s]\u001b[A\n",
      " 87%|████████▋ | 13/15 [00:30<00:04,  2.16s/it]A\n",
      "  0%|          | 0/5 [00:00<?, ?it/s]\u001b[A\n",
      " 20%|██        | 1/5 [00:00<00:00,  6.14it/s]\u001b[A\n",
      " 40%|████      | 2/5 [00:00<00:00,  4.10it/s]\u001b[A\n",
      " 60%|██████    | 3/5 [00:00<00:00,  4.17it/s]\u001b[A\n",
      " 80%|████████  | 4/5 [00:01<00:00,  2.80it/s]\u001b[A\n",
      "100%|██████████| 5/5 [00:02<00:00,  2.37it/s]\u001b[A\n",
      " 93%|█████████▎| 14/15 [00:32<00:02,  2.12s/it]A\n",
      "  0%|          | 0/5 [00:00<?, ?it/s]\u001b[A\n",
      " 20%|██        | 1/5 [00:00<00:00,  6.87it/s]\u001b[A\n",
      " 40%|████      | 2/5 [00:00<00:00,  4.44it/s]\u001b[A\n",
      " 60%|██████    | 3/5 [00:01<00:00,  3.23it/s]\u001b[A\n",
      " 80%|████████  | 4/5 [00:01<00:00,  2.55it/s]\u001b[A\n",
      "100%|██████████| 5/5 [00:02<00:00,  2.18it/s]\u001b[A\n",
      "100%|██████████| 15/15 [00:34<00:00,  2.32s/it]\n"
     ]
    },
    {
     "data": {
      "image/png": "[encoded data removed]",
      "text/plain": [
       "<Figure size 432x288 with 1 Axes>"
      ]
     },
     "metadata": {},
     "output_type": "display_data"
    }
   ],
   "source": [
    "perfplot.show(\n",
    "    setup=lambda n: numpy.random.rand(n),  # or simply setup=numpy.random.rand\n",
    "    kernels=[\n",
    "        lambda a: numpy.c_[a, a],\n",
    "        lambda a: numpy.stack([a, a]).T,\n",
    "        lambda a: numpy.vstack([a, a]).T,\n",
    "        lambda a: numpy.column_stack([a, a]),\n",
    "        lambda a: numpy.concatenate([a[:, None], a[:, None]], axis=1),\n",
    "    ],\n",
    "    labels=[\"c_\", \"stack\", \"vstack\", \"column_stack\", \"concat\"],\n",
    "    n_range=[2 ** k for k in range(15)],\n",
    "    xlabel=\"len(a)\",\n",
    ")"
   ]
  }
 ],
 "metadata": {
  "kernelspec": {
   "display_name": "Python 3",
   "language": "python",
   "name": "python3"
  },
  "language_info": {
   "codemirror_mode": {
    "name": "ipython",
    "version": 3
   },
   "file_extension": ".py",
   "mimetype": "text/x-python",
   "name": "python",
   "nbconvert_exporter": "python",
   "pygments_lexer": "ipython3",
   "version": "3.8.5"
  }
 },
 "nbformat": 4,
 "nbformat_minor": 4
}
